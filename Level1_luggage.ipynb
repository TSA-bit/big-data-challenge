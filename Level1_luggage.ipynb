{
  "nbformat": 4,
  "nbformat_minor": 0,
  "metadata": {
    "colab": {
      "name": "Level1_luggage.ipynb",
      "provenance": [],
      "authorship_tag": "ABX9TyO7Nb/noqqpUI1oW96PqHTa",
      "include_colab_link": true
    },
    "kernelspec": {
      "name": "python3",
      "display_name": "Python 3"
    },
    "language_info": {
      "name": "python"
    }
  },
  "cells": [
    {
      "cell_type": "markdown",
      "metadata": {
        "id": "view-in-github",
        "colab_type": "text"
      },
      "source": [
        "<a href=\"https://colab.research.google.com/github/TSA-bit/big-data-challenge/blob/main/Level1_luggage.ipynb\" target=\"_parent\"><img src=\"https://colab.research.google.com/assets/colab-badge.svg\" alt=\"Open In Colab\"/></a>"
      ]
    },
    {
      "cell_type": "code",
      "execution_count": 1,
      "metadata": {
        "id": "AvX1-2MPIyBS"
      },
      "outputs": [],
      "source": [
        "import os\n",
        "spark_version = 'spark-3.2.1'\n",
        "os.environ['SPARK_VERSION']=spark_version"
      ]
    },
    {
      "cell_type": "code",
      "source": [
        "# Install Spark and Java\n",
        "!apt-get update\n",
        "!apt-get install openjdk-8-jdk-headless -qq > /dev/null\n",
        "!wget -q http://www.apache.org/dist/spark/$SPARK_VERSION/$SPARK_VERSION-bin-hadoop2.7.tgz\n",
        "!tar xf $SPARK_VERSION-bin-hadoop2.7.tgz\n",
        "!pip install -q findspark\n",
        "\n",
        "# Set Environment Variables\n",
        "import os\n",
        "os.environ[\"JAVA_HOME\"] = \"/usr/lib/jvm/java-8-openjdk-amd64\"\n",
        "os.environ[\"SPARK_HOME\"] = f\"/content/{spark_version}-bin-hadoop2.7\"\n",
        "\n",
        "# Start a SparkSession\n",
        "import findspark\n",
        "findspark.init()"
      ],
      "metadata": {
        "colab": {
          "base_uri": "https://localhost:8080/"
        },
        "id": "r0tez00DKanS",
        "outputId": "33cd2884-cd3f-4389-a491-bafd5de169d7"
      },
      "execution_count": 2,
      "outputs": [
        {
          "output_type": "stream",
          "name": "stdout",
          "text": [
            "Get:1 http://security.ubuntu.com/ubuntu bionic-security InRelease [88.7 kB]\n",
            "Get:2 https://cloud.r-project.org/bin/linux/ubuntu bionic-cran40/ InRelease [3,626 B]\n",
            "Ign:3 https://developer.download.nvidia.com/compute/cuda/repos/ubuntu1804/x86_64  InRelease\n",
            "Get:4 http://ppa.launchpad.net/c2d4u.team/c2d4u4.0+/ubuntu bionic InRelease [15.9 kB]\n",
            "Hit:5 http://archive.ubuntu.com/ubuntu bionic InRelease\n",
            "Ign:6 https://developer.download.nvidia.com/compute/machine-learning/repos/ubuntu1804/x86_64  InRelease\n",
            "Get:7 https://developer.download.nvidia.com/compute/cuda/repos/ubuntu1804/x86_64  Release [696 B]\n",
            "Hit:8 https://developer.download.nvidia.com/compute/machine-learning/repos/ubuntu1804/x86_64  Release\n",
            "Get:9 https://developer.download.nvidia.com/compute/cuda/repos/ubuntu1804/x86_64  Release.gpg [836 B]\n",
            "Get:10 http://archive.ubuntu.com/ubuntu bionic-updates InRelease [88.7 kB]\n",
            "Hit:11 http://ppa.launchpad.net/cran/libgit2/ubuntu bionic InRelease\n",
            "Get:12 https://cloud.r-project.org/bin/linux/ubuntu bionic-cran40/ Packages [76.8 kB]\n",
            "Hit:13 http://ppa.launchpad.net/deadsnakes/ppa/ubuntu bionic InRelease\n",
            "Get:14 http://archive.ubuntu.com/ubuntu bionic-backports InRelease [74.6 kB]\n",
            "Get:15 http://security.ubuntu.com/ubuntu bionic-security/restricted amd64 Packages [806 kB]\n",
            "Get:16 http://ppa.launchpad.net/graphics-drivers/ppa/ubuntu bionic InRelease [21.3 kB]\n",
            "Get:17 http://security.ubuntu.com/ubuntu bionic-security/main amd64 Packages [2,596 kB]\n",
            "Get:18 http://security.ubuntu.com/ubuntu bionic-security/universe amd64 Packages [1,474 kB]\n",
            "Get:20 https://developer.download.nvidia.com/compute/cuda/repos/ubuntu1804/x86_64  Packages [931 kB]\n",
            "Get:21 http://ppa.launchpad.net/c2d4u.team/c2d4u4.0+/ubuntu bionic/main Sources [1,827 kB]\n",
            "Get:22 http://archive.ubuntu.com/ubuntu bionic-updates/restricted amd64 Packages [840 kB]\n",
            "Get:23 http://archive.ubuntu.com/ubuntu bionic-updates/universe amd64 Packages [2,252 kB]\n",
            "Get:24 http://ppa.launchpad.net/c2d4u.team/c2d4u4.0+/ubuntu bionic/main amd64 Packages [936 kB]\n",
            "Get:25 http://archive.ubuntu.com/ubuntu bionic-updates/main amd64 Packages [3,036 kB]\n",
            "Get:26 http://ppa.launchpad.net/graphics-drivers/ppa/ubuntu bionic/main amd64 Packages [42.8 kB]\n",
            "Fetched 15.1 MB in 4s (3,708 kB/s)\n",
            "Reading package lists... Done\n"
          ]
        }
      ]
    },
    {
      "cell_type": "code",
      "source": [
        "#connection to Postgres\n",
        "!wget https://jdbc.postgresql.org/download/postgresql-42.2.9.jar"
      ],
      "metadata": {
        "colab": {
          "base_uri": "https://localhost:8080/"
        },
        "id": "Yk3-KTJvK1ot",
        "outputId": "613e53d1-77db-42b4-81d3-78d3f9f07fec"
      },
      "execution_count": 3,
      "outputs": [
        {
          "output_type": "stream",
          "name": "stdout",
          "text": [
            "--2022-03-07 02:18:47--  https://jdbc.postgresql.org/download/postgresql-42.2.9.jar\n",
            "Resolving jdbc.postgresql.org (jdbc.postgresql.org)... 72.32.157.228, 2001:4800:3e1:1::228\n",
            "Connecting to jdbc.postgresql.org (jdbc.postgresql.org)|72.32.157.228|:443... connected.\n",
            "HTTP request sent, awaiting response... 200 OK\n",
            "Length: 914037 (893K) [application/java-archive]\n",
            "Saving to: ‘postgresql-42.2.9.jar’\n",
            "\n",
            "postgresql-42.2.9.j 100%[===================>] 892.61K  5.71MB/s    in 0.2s    \n",
            "\n",
            "2022-03-07 02:18:48 (5.71 MB/s) - ‘postgresql-42.2.9.jar’ saved [914037/914037]\n",
            "\n"
          ]
        }
      ]
    },
    {
      "cell_type": "code",
      "source": [
        "#start spark session\n",
        "from pyspark.sql import SparkSession\n",
        "spark = SparkSession.builder.appName(\"amazon_reviews_us_Pet_Products\").config(\"apark.driver.extraClassPath\", \"/content/postgresql-42.2.9.jar\").getOrCreate()"
      ],
      "metadata": {
        "id": "uEVTS3ejLCAP"
      },
      "execution_count": 4,
      "outputs": []
    },
    {
      "cell_type": "code",
      "source": [
        "#Read in data from S3 buckets\n",
        "from pyspark import SparkFiles\n",
        "url = \"https://s3.amazonaws.com/amazon-reviews-pds/tsv/amazon_reviews_us_Luggage_v1_00.tsv.gz\"\n",
        "spark.sparkContext.addFile(url)\n",
        "df = spark.read.option('header', 'true').csv(SparkFiles.get(\"amazon_reviews_us_Luggage_v1_00.tsv.gz\"), inferSchema=True, sep=\"\\t\")\n",
        "df.show()"
      ],
      "metadata": {
        "colab": {
          "base_uri": "https://localhost:8080/"
        },
        "id": "mmeiZMK5Lxn8",
        "outputId": "e2ef6b84-d111-4524-80af-32f4efc2cc3a"
      },
      "execution_count": 6,
      "outputs": [
        {
          "output_type": "stream",
          "name": "stdout",
          "text": [
            "+-----------+-----------+--------------+----------+--------------+--------------------+----------------+-----------+-------------+-----------+----+-----------------+--------------------+--------------------+-----------+\n",
            "|marketplace|customer_id|     review_id|product_id|product_parent|       product_title|product_category|star_rating|helpful_votes|total_votes|vine|verified_purchase|     review_headline|         review_body|review_date|\n",
            "+-----------+-----------+--------------+----------+--------------+--------------------+----------------+-----------+-------------+-----------+----+-----------------+--------------------+--------------------+-----------+\n",
            "|         US|   40884699| R9CO86UUJCAW5|B00VGTN02Y|     786681372|Teenage Mutant Ni...|         Luggage|          3|            0|          0|   N|                Y|my review of this...|my review of this...| 2015-08-31|\n",
            "|         US|   23208852|R3PR8X6QGVJ8B1|B005KIWL0E|     618251799|Kenneth Cole Reac...|         Luggage|          5|            0|          0|   N|                Y|          Five Stars|       Perfect size.| 2015-08-31|\n",
            "|         US|   17100246|R39BO2819ABUPF|B007UNSHJ6|     810480328|American Touriste...|         Luggage|          4|            0|          0|   N|                Y|            so good.|    So far, so good.| 2015-08-31|\n",
            "|         US|   13533670|R3ADL7V6EGGEEP|B00WHFNXB4|      20765193|15.5 Inch Purple ...|         Luggage|          4|            0|          0|   N|                Y|          Four Stars|seems nicely made...| 2015-08-31|\n",
            "|         US|   38541771|R1OXYPBPLVRMI5|B000M5NBYU|     812890709|Port & Company Zi...|         Luggage|          5|            0|          0|   N|                Y|           Dance Bag|Great bag for all...| 2015-08-31|\n",
            "|         US|   12686499|R1WYM8Z5ATQ98O|B00ACBJ89G|     624906499|J World New York ...|         Luggage|          3|            0|          0|   N|                Y|        TOO SMALL!!!|it´s nice BUT it´...| 2015-08-31|\n",
            "|         US|   27767206|R3LCIANTN1H9EC|B001H4BQ1A|     385044506|Voltage Valet Clo...|         Luggage|          4|            1|          1|   N|                Y|          Four Stars|It does the job b...| 2015-08-31|\n",
            "|         US|   46630606|R3U2M23N1P0KQ6|B00ESG6NDK|      51297652|Pro Packing Cubes...|         Luggage|          5|            0|          0|   N|                Y|          Five Stars|          Just fine.| 2015-08-31|\n",
            "|         US|   41622754|R29MB6N7HB6NZI|B00M14SAXC|     832113872|Girl's Dance Duff...|         Luggage|          1|            2|          2|   N|                Y|We were exited to...|We were exited to...| 2015-08-31|\n",
            "|         US|   15296380| RGEQ6DGRG7DQG|B012PC5QAY|     490793867|Disney Inside Out...|         Luggage|          5|            0|          0|   N|                Y|               cute!|Very nice and we'...| 2015-08-31|\n",
            "|         US|   21206415|R38HNH0BSS2KFE|B00VWKWWMG|     356411837|World Traveler 13...|         Luggage|          1|            1|          1|   N|                Y|            One Star|Brought it on vac...| 2015-08-31|\n",
            "|         US|   34554097|R2CATRM9CH59LY|B00N2U14UK|     326835930|Sherpani Trevia C...|         Luggage|          5|            4|          4|   N|                Y|A great bag for t...|I purchased this ...| 2015-08-31|\n",
            "|         US|   42252567|R18DMKNDPJ1BSN|B00K4F45CA|     954517686|Rockland Luggage ...|         Luggage|          5|            0|          1|   N|                Y|             Perfect|Love this light w...| 2015-08-31|\n",
            "|         US|    3532342| RZRSHBWXO3XUQ|B00U57FFA8|      98867907|Allant 16\" Padded...|         Luggage|          5|            0|          0|   N|                Y|it's durable and ...|Purchased this ba...| 2015-08-31|\n",
            "|         US|    7791634|R1BMTNSYCZY1NI|B00ROSRFQ8|     648371973|Polare Manly Real...|         Luggage|          3|            1|          1|   N|                Y|Strong well-made ...|I've had this bag...| 2015-08-31|\n",
            "|         US|    9911099| RPE2S0HZQ9EFP|B003ZV71BM|     406795103|American Flyer Lu...|         Luggage|          5|            0|          0|   N|                Y|          Five Stars|Love love love my...| 2015-08-31|\n",
            "|         US|   46124918|R2OOWJSFPDDA03|B00NJYB2JM|     255715129|Victoriatourist V...|         Luggage|          3|            0|          1|   N|                Y|         Three Stars|Smaller than expe...| 2015-08-31|\n",
            "|         US|     200537|R3EED64ZPXGZ92|B00LD0A4N4|     244117760|EcoCity Vintage C...|         Luggage|          3|            0|          0|   N|                Y|         Three Stars|Within the first ...| 2015-08-31|\n",
            "|         US|    1403856|R1BI8NF6YRH5HD|B00N5GVF6O|     626808161|Bolang Water Resi...|         Luggage|          5|            0|          0|   N|                Y|     Laptop backpack|Nice nice sturdy ...| 2015-08-31|\n",
            "|         US|    8201781| RUD7SDRQTAVMC|B00C75KZPQ|     176437087|Travelon Cosmetic...|         Luggage|          5|            0|          0|   N|                Y|           Fabulous!|Fabulous! Can use...| 2015-08-31|\n",
            "+-----------+-----------+--------------+----------+--------------+--------------------+----------------+-----------+-------------+-----------+----+-----------------+--------------------+--------------------+-----------+\n",
            "only showing top 20 rows\n",
            "\n"
          ]
        }
      ]
    },
    {
      "cell_type": "code",
      "source": [
        "#check datatypes\n",
        "df.printSchema()"
      ],
      "metadata": {
        "colab": {
          "base_uri": "https://localhost:8080/"
        },
        "id": "PzcXrMrbM-6T",
        "outputId": "3563c3d4-46cf-4c96-90e2-85b9c81c0ba9"
      },
      "execution_count": 7,
      "outputs": [
        {
          "output_type": "stream",
          "name": "stdout",
          "text": [
            "root\n",
            " |-- marketplace: string (nullable = true)\n",
            " |-- customer_id: integer (nullable = true)\n",
            " |-- review_id: string (nullable = true)\n",
            " |-- product_id: string (nullable = true)\n",
            " |-- product_parent: integer (nullable = true)\n",
            " |-- product_title: string (nullable = true)\n",
            " |-- product_category: string (nullable = true)\n",
            " |-- star_rating: integer (nullable = true)\n",
            " |-- helpful_votes: integer (nullable = true)\n",
            " |-- total_votes: integer (nullable = true)\n",
            " |-- vine: string (nullable = true)\n",
            " |-- verified_purchase: string (nullable = true)\n",
            " |-- review_headline: string (nullable = true)\n",
            " |-- review_body: string (nullable = true)\n",
            " |-- review_date: string (nullable = true)\n",
            "\n"
          ]
        }
      ]
    },
    {
      "cell_type": "code",
      "source": [
        "#change review_date to date format\n",
        "from pyspark.sql.types import DateType\n",
        "\n",
        "df = df.withColumn(\"review_date\", df.review_date.cast(DateType()))\n",
        "df.show()"
      ],
      "metadata": {
        "colab": {
          "base_uri": "https://localhost:8080/"
        },
        "id": "-m1yTs4hOLa9",
        "outputId": "279d9548-bf35-4557-ad7f-be413a9d0f7b"
      },
      "execution_count": 10,
      "outputs": [
        {
          "output_type": "stream",
          "name": "stdout",
          "text": [
            "+-----------+-----------+--------------+----------+--------------+--------------------+----------------+-----------+-------------+-----------+----+-----------------+--------------------+--------------------+-----------+\n",
            "|marketplace|customer_id|     review_id|product_id|product_parent|       product_title|product_category|star_rating|helpful_votes|total_votes|vine|verified_purchase|     review_headline|         review_body|review_date|\n",
            "+-----------+-----------+--------------+----------+--------------+--------------------+----------------+-----------+-------------+-----------+----+-----------------+--------------------+--------------------+-----------+\n",
            "|         US|   40884699| R9CO86UUJCAW5|B00VGTN02Y|     786681372|Teenage Mutant Ni...|         Luggage|          3|            0|          0|   N|                Y|my review of this...|my review of this...| 2015-08-31|\n",
            "|         US|   23208852|R3PR8X6QGVJ8B1|B005KIWL0E|     618251799|Kenneth Cole Reac...|         Luggage|          5|            0|          0|   N|                Y|          Five Stars|       Perfect size.| 2015-08-31|\n",
            "|         US|   17100246|R39BO2819ABUPF|B007UNSHJ6|     810480328|American Touriste...|         Luggage|          4|            0|          0|   N|                Y|            so good.|    So far, so good.| 2015-08-31|\n",
            "|         US|   13533670|R3ADL7V6EGGEEP|B00WHFNXB4|      20765193|15.5 Inch Purple ...|         Luggage|          4|            0|          0|   N|                Y|          Four Stars|seems nicely made...| 2015-08-31|\n",
            "|         US|   38541771|R1OXYPBPLVRMI5|B000M5NBYU|     812890709|Port & Company Zi...|         Luggage|          5|            0|          0|   N|                Y|           Dance Bag|Great bag for all...| 2015-08-31|\n",
            "|         US|   12686499|R1WYM8Z5ATQ98O|B00ACBJ89G|     624906499|J World New York ...|         Luggage|          3|            0|          0|   N|                Y|        TOO SMALL!!!|it´s nice BUT it´...| 2015-08-31|\n",
            "|         US|   27767206|R3LCIANTN1H9EC|B001H4BQ1A|     385044506|Voltage Valet Clo...|         Luggage|          4|            1|          1|   N|                Y|          Four Stars|It does the job b...| 2015-08-31|\n",
            "|         US|   46630606|R3U2M23N1P0KQ6|B00ESG6NDK|      51297652|Pro Packing Cubes...|         Luggage|          5|            0|          0|   N|                Y|          Five Stars|          Just fine.| 2015-08-31|\n",
            "|         US|   41622754|R29MB6N7HB6NZI|B00M14SAXC|     832113872|Girl's Dance Duff...|         Luggage|          1|            2|          2|   N|                Y|We were exited to...|We were exited to...| 2015-08-31|\n",
            "|         US|   15296380| RGEQ6DGRG7DQG|B012PC5QAY|     490793867|Disney Inside Out...|         Luggage|          5|            0|          0|   N|                Y|               cute!|Very nice and we'...| 2015-08-31|\n",
            "|         US|   21206415|R38HNH0BSS2KFE|B00VWKWWMG|     356411837|World Traveler 13...|         Luggage|          1|            1|          1|   N|                Y|            One Star|Brought it on vac...| 2015-08-31|\n",
            "|         US|   34554097|R2CATRM9CH59LY|B00N2U14UK|     326835930|Sherpani Trevia C...|         Luggage|          5|            4|          4|   N|                Y|A great bag for t...|I purchased this ...| 2015-08-31|\n",
            "|         US|   42252567|R18DMKNDPJ1BSN|B00K4F45CA|     954517686|Rockland Luggage ...|         Luggage|          5|            0|          1|   N|                Y|             Perfect|Love this light w...| 2015-08-31|\n",
            "|         US|    3532342| RZRSHBWXO3XUQ|B00U57FFA8|      98867907|Allant 16\" Padded...|         Luggage|          5|            0|          0|   N|                Y|it's durable and ...|Purchased this ba...| 2015-08-31|\n",
            "|         US|    7791634|R1BMTNSYCZY1NI|B00ROSRFQ8|     648371973|Polare Manly Real...|         Luggage|          3|            1|          1|   N|                Y|Strong well-made ...|I've had this bag...| 2015-08-31|\n",
            "|         US|    9911099| RPE2S0HZQ9EFP|B003ZV71BM|     406795103|American Flyer Lu...|         Luggage|          5|            0|          0|   N|                Y|          Five Stars|Love love love my...| 2015-08-31|\n",
            "|         US|   46124918|R2OOWJSFPDDA03|B00NJYB2JM|     255715129|Victoriatourist V...|         Luggage|          3|            0|          1|   N|                Y|         Three Stars|Smaller than expe...| 2015-08-31|\n",
            "|         US|     200537|R3EED64ZPXGZ92|B00LD0A4N4|     244117760|EcoCity Vintage C...|         Luggage|          3|            0|          0|   N|                Y|         Three Stars|Within the first ...| 2015-08-31|\n",
            "|         US|    1403856|R1BI8NF6YRH5HD|B00N5GVF6O|     626808161|Bolang Water Resi...|         Luggage|          5|            0|          0|   N|                Y|     Laptop backpack|Nice nice sturdy ...| 2015-08-31|\n",
            "|         US|    8201781| RUD7SDRQTAVMC|B00C75KZPQ|     176437087|Travelon Cosmetic...|         Luggage|          5|            0|          0|   N|                Y|           Fabulous!|Fabulous! Can use...| 2015-08-31|\n",
            "+-----------+-----------+--------------+----------+--------------+--------------------+----------------+-----------+-------------+-----------+----+-----------------+--------------------+--------------------+-----------+\n",
            "only showing top 20 rows\n",
            "\n"
          ]
        }
      ]
    },
    {
      "cell_type": "code",
      "source": [
        "#drop duplicates and incomplete rows\n",
        "print(df.count())\n",
        "df = df.dropna()\n",
        "print(df.count())\n",
        "df = df.dropDuplicates()\n",
        "print(df.count())"
      ],
      "metadata": {
        "colab": {
          "base_uri": "https://localhost:8080/"
        },
        "id": "sBMm00zFO9k6",
        "outputId": "eb119532-072a-42b1-d0a6-7f37bbd66fbe"
      },
      "execution_count": 13,
      "outputs": [
        {
          "output_type": "stream",
          "name": "stdout",
          "text": [
            "348657\n",
            "348613\n",
            "348613\n"
          ]
        }
      ]
    },
    {
      "cell_type": "code",
      "source": [
        "#verify data types after changes\n",
        "df.printSchema()"
      ],
      "metadata": {
        "colab": {
          "base_uri": "https://localhost:8080/"
        },
        "id": "Y87XrdTJPSWy",
        "outputId": "92f98f8f-5639-434c-b79e-db26d3fe5404"
      },
      "execution_count": 14,
      "outputs": [
        {
          "output_type": "stream",
          "name": "stdout",
          "text": [
            "root\n",
            " |-- marketplace: string (nullable = true)\n",
            " |-- customer_id: integer (nullable = true)\n",
            " |-- review_id: string (nullable = true)\n",
            " |-- product_id: string (nullable = true)\n",
            " |-- product_parent: integer (nullable = true)\n",
            " |-- product_title: string (nullable = true)\n",
            " |-- product_category: string (nullable = true)\n",
            " |-- star_rating: integer (nullable = true)\n",
            " |-- helpful_votes: integer (nullable = true)\n",
            " |-- total_votes: integer (nullable = true)\n",
            " |-- vine: string (nullable = true)\n",
            " |-- verified_purchase: string (nullable = true)\n",
            " |-- review_headline: string (nullable = true)\n",
            " |-- review_body: string (nullable = true)\n",
            " |-- review_date: date (nullable = true)\n",
            "\n"
          ]
        }
      ]
    },
    {
      "cell_type": "code",
      "source": [
        "#create review_id_table\n",
        "reviews_df = df.select([\"review_id\", \"customer_id\", \"product_id\", \"product_parent\", \"review_date\"])\n",
        "reviews_df.show()"
      ],
      "metadata": {
        "colab": {
          "base_uri": "https://localhost:8080/"
        },
        "id": "CcpVwqirQBuy",
        "outputId": "75d570c7-a610-467f-a250-2f250ceb9db4"
      },
      "execution_count": 15,
      "outputs": [
        {
          "output_type": "stream",
          "name": "stdout",
          "text": [
            "+--------------+-----------+----------+--------------+-----------+\n",
            "|     review_id|customer_id|product_id|product_parent|review_date|\n",
            "+--------------+-----------+----------+--------------+-----------+\n",
            "|R11IBSD5E6HPSD|   20761040|B002B3FWXY|     677901073| 2015-08-31|\n",
            "|R16F6MZAVR1IYL|   29442013|B000YB7T04|     553070376| 2015-08-31|\n",
            "|R30889FXLP48F3|   29849475|B00F9KE912|     918753137| 2015-08-30|\n",
            "|R1DW06GLTNCVWQ|    1988134|B001CDG7Q0|     460451174| 2015-08-29|\n",
            "| RDC197RTSTZJY|    1302634|B0019GAOO6|      53787504| 2015-08-29|\n",
            "|R3D44CQ92OA3BR|   26953574|B00YGDX2XE|     613329783| 2015-08-29|\n",
            "|R115NO9WEEUBWD|   38639848|B00KH5FB5W|     684605802| 2015-08-28|\n",
            "|R16QUOK50Y94JU|    8004704|B00JKJQJHA|     860629696| 2015-08-28|\n",
            "| R1P81BC6VL7PZ|     121815|B00WJJVXQU|     990303407| 2015-08-28|\n",
            "| RZZLHN9MWIAEJ|   48578265|B006GN4ERU|     333298218| 2015-08-28|\n",
            "|R1A75HAI9Q04WV|    1211291|B00Z9NV81I|      63474760| 2015-08-27|\n",
            "|R1PCHIM41UIET7|   32335114|B001TQTWGW|     293242998| 2015-08-27|\n",
            "|R2S1PWOTIMYQ29|   19058299|B009AZ69V0|     899960867| 2015-08-27|\n",
            "|R3MFI5JTNYZCFG|   50003969|B00FF4AAS8|     741120886| 2015-08-27|\n",
            "|R3JKRAI8U8BJAI|   13113770|B000BT2FK8|     920283585| 2015-08-27|\n",
            "|R15NKX41PS6HZH|   42311654|B00DRJQZ0K|     292432792| 2015-08-27|\n",
            "| RHO2UKGLG2VWQ|   25540083|B011VZE7DS|     983328866| 2015-08-27|\n",
            "|R2CHA72Y7EXE58|   14719362|B00LZXPJB6|     990457934| 2015-08-25|\n",
            "|R1FAZCDMXP7HWQ|   19756712|B00FUWSU3W|     696946332| 2015-08-25|\n",
            "|R1T2ABSFLTRYWP|   16443254|B00LJUROJ0|     358037182| 2015-08-24|\n",
            "+--------------+-----------+----------+--------------+-----------+\n",
            "only showing top 20 rows\n",
            "\n"
          ]
        }
      ]
    },
    {
      "cell_type": "code",
      "source": [
        "#create product table\n",
        "product_df = df.select([\"product_id\", \"product_title\"])\n",
        "product_df.show()"
      ],
      "metadata": {
        "colab": {
          "base_uri": "https://localhost:8080/"
        },
        "id": "W1I3ZNdiQfFx",
        "outputId": "a151c1af-452c-427a-9887-6dc1f391e0bb"
      },
      "execution_count": 16,
      "outputs": [
        {
          "output_type": "stream",
          "name": "stdout",
          "text": [
            "+----------+--------------------+\n",
            "|product_id|       product_title|\n",
            "+----------+--------------------+\n",
            "|B002B3FWXY|Travelon Anti-The...|\n",
            "|B000YB7T04|totes Signature C...|\n",
            "|B00F9KE912|Samsonite Wheeled...|\n",
            "|B001CDG7Q0|17 Inch Gray Whee...|\n",
            "|B0019GAOO6| Everest Hiking Pack|\n",
            "|B00YGDX2XE|MEKU PU leather P...|\n",
            "|B00KH5FB5W|Ever Moda Designe...|\n",
            "|B00JKJQJHA|Dot&Dot Travel Ac...|\n",
            "|B00WJJVXQU|17\" Red & Black M...|\n",
            "|B006GN4ERU|Olympia Deluxe Fa...|\n",
            "|B00Z9NV81I|SENPAIC Canvas La...|\n",
            "|B001TQTWGW|Travelon Anti-The...|\n",
            "|B009AZ69V0|Traveler's Choice...|\n",
            "|B00FF4AAS8|HOVEOX Stylish Me...|\n",
            "|B000BT2FK8|Royce Leather Lux...|\n",
            "|B00DRJQZ0K|Reinforced Design...|\n",
            "|B011VZE7DS|Monster Trucks Ba...|\n",
            "|B00LZXPJB6|Canvas 15\" Laptop...|\n",
            "|B00FUWSU3W|Bago Travel Duffe...|\n",
            "|B00LJUROJ0|Travelpro Infligh...|\n",
            "+----------+--------------------+\n",
            "only showing top 20 rows\n",
            "\n"
          ]
        }
      ]
    },
    {
      "cell_type": "code",
      "source": [
        "#count total number rows in product_df\n",
        "counted = product_df.count()\n",
        "print(f\"Total number product: {counted}\")"
      ],
      "metadata": {
        "colab": {
          "base_uri": "https://localhost:8080/"
        },
        "id": "BK3CfnYhQ3lC",
        "outputId": "183fbccb-2244-4098-b6e2-5c298893f340"
      },
      "execution_count": 18,
      "outputs": [
        {
          "output_type": "stream",
          "name": "stdout",
          "text": [
            "Total number product: 348613\n"
          ]
        }
      ]
    },
    {
      "cell_type": "code",
      "source": [
        "#product table needs only unique values\n",
        "product_df = product_df.distinct()\n",
        "\n",
        "#check new row count\n",
        "recounted = product_df.count()\n",
        "print(f\"Total number after recount: {recounted}\")"
      ],
      "metadata": {
        "colab": {
          "base_uri": "https://localhost:8080/"
        },
        "id": "9vpUMNuaRHnW",
        "outputId": "a913ff8d-f5f9-417d-f682-1381387727e7"
      },
      "execution_count": 19,
      "outputs": [
        {
          "output_type": "stream",
          "name": "stdout",
          "text": [
            "Total number after recount: 64584\n"
          ]
        }
      ]
    },
    {
      "cell_type": "code",
      "source": [
        "#create customers table, per schema need customer count\n",
        "customers_df = df.groupBy(\"customer_id\").count()\n",
        "\n",
        "#rename count column\n",
        "customers_df = customers_df.withColumnRenamed(\"count\", \"customer_count\")\n",
        "\n",
        "#order by customer count\n",
        "customers_df.orderBy(customers_df[\"customer_count\"].desc()).show()"
      ],
      "metadata": {
        "colab": {
          "base_uri": "https://localhost:8080/"
        },
        "id": "A2gX0GsVScQd",
        "outputId": "c624a842-fbe7-47c9-b818-6c11af19f79f"
      },
      "execution_count": 21,
      "outputs": [
        {
          "output_type": "stream",
          "name": "stdout",
          "text": [
            "+-----------+--------------+\n",
            "|customer_id|customer_count|\n",
            "+-----------+--------------+\n",
            "|   12640280|            63|\n",
            "|   16600581|            31|\n",
            "|   27493011|            31|\n",
            "|   43856165|            29|\n",
            "|   39789300|            26|\n",
            "|   35461976|            25|\n",
            "|   35938574|            24|\n",
            "|   52955780|            23|\n",
            "|    5329443|            23|\n",
            "|   52228204|            23|\n",
            "|   37244426|            22|\n",
            "|   49266466|            21|\n",
            "|   51712970|            19|\n",
            "|   47169566|            19|\n",
            "|   20844007|            19|\n",
            "|     497832|            19|\n",
            "|   51346302|            18|\n",
            "|   11422115|            17|\n",
            "|   10009912|            17|\n",
            "|   14866545|            17|\n",
            "+-----------+--------------+\n",
            "only showing top 20 rows\n",
            "\n"
          ]
        }
      ]
    },
    {
      "cell_type": "code",
      "source": [
        "#check data type for customers_df\n",
        "customers_df.printSchema()"
      ],
      "metadata": {
        "colab": {
          "base_uri": "https://localhost:8080/"
        },
        "id": "wNqGExPkTL3A",
        "outputId": "d6b103d9-510d-4921-c4bc-7e35cbf2ca2d"
      },
      "execution_count": 22,
      "outputs": [
        {
          "output_type": "stream",
          "name": "stdout",
          "text": [
            "root\n",
            " |-- customer_id: integer (nullable = true)\n",
            " |-- customer_count: long (nullable = false)\n",
            "\n"
          ]
        }
      ]
    },
    {
      "cell_type": "code",
      "source": [
        "#per schema customer count needs to be integer\n",
        "from pyspark.sql.types import IntegerType\n",
        "\n",
        "customers_df = customers_df.withColumn(\"customer_count\", customers_df[\"customer_count\"].cast(IntegerType()))\n",
        "\n",
        "#verify data type change\n",
        "customers_df.printSchema()"
      ],
      "metadata": {
        "colab": {
          "base_uri": "https://localhost:8080/"
        },
        "id": "96Zr9SxvTnVM",
        "outputId": "4fe5ba0d-d7df-4878-a3b2-74fcd84c62df"
      },
      "execution_count": 23,
      "outputs": [
        {
          "output_type": "stream",
          "name": "stdout",
          "text": [
            "root\n",
            " |-- customer_id: integer (nullable = true)\n",
            " |-- customer_count: integer (nullable = false)\n",
            "\n"
          ]
        }
      ]
    },
    {
      "cell_type": "code",
      "source": [
        "#Create vine_table\n",
        "vine_table_df = df.select([\"review_id\", \"star_rating\", \"helpful_votes\", \"total_votes\", \"vine\"])\n",
        "vine_table_df.show()"
      ],
      "metadata": {
        "colab": {
          "base_uri": "https://localhost:8080/"
        },
        "id": "ZEMjRigpUAyD",
        "outputId": "7c8749a3-d90b-43b3-c000-a6b556cb837e"
      },
      "execution_count": 24,
      "outputs": [
        {
          "output_type": "stream",
          "name": "stdout",
          "text": [
            "+--------------+-----------+-------------+-----------+----+\n",
            "|     review_id|star_rating|helpful_votes|total_votes|vine|\n",
            "+--------------+-----------+-------------+-----------+----+\n",
            "|R11IBSD5E6HPSD|          1|           29|         31|   N|\n",
            "|R16F6MZAVR1IYL|          4|            0|          0|   N|\n",
            "|R30889FXLP48F3|          5|            1|          1|   N|\n",
            "|R1DW06GLTNCVWQ|          5|            0|          0|   N|\n",
            "| RDC197RTSTZJY|          4|            0|          0|   N|\n",
            "|R3D44CQ92OA3BR|          5|            0|          0|   N|\n",
            "|R115NO9WEEUBWD|          4|            1|          1|   N|\n",
            "|R16QUOK50Y94JU|          5|            0|          0|   N|\n",
            "| R1P81BC6VL7PZ|          4|            0|          0|   N|\n",
            "| RZZLHN9MWIAEJ|          5|            0|          0|   N|\n",
            "|R1A75HAI9Q04WV|          1|            8|          9|   N|\n",
            "|R1PCHIM41UIET7|          3|            0|          0|   N|\n",
            "|R2S1PWOTIMYQ29|          5|            0|          1|   N|\n",
            "|R3MFI5JTNYZCFG|          5|            0|          0|   N|\n",
            "|R3JKRAI8U8BJAI|          4|            0|          0|   N|\n",
            "|R15NKX41PS6HZH|          5|            0|          0|   N|\n",
            "| RHO2UKGLG2VWQ|          5|            1|          1|   N|\n",
            "|R2CHA72Y7EXE58|          5|            0|          0|   N|\n",
            "|R1FAZCDMXP7HWQ|          5|            0|          0|   N|\n",
            "|R1T2ABSFLTRYWP|          4|            0|          0|   N|\n",
            "+--------------+-----------+-------------+-----------+----+\n",
            "only showing top 20 rows\n",
            "\n"
          ]
        }
      ]
    },
    {
      "cell_type": "code",
      "source": [
        "#configure settings for RDS\n",
        "mode = \"append\"\n",
        "jdbc_url = \"jdbc:postgresql://<connection string>:5432/<luggage>\"\n",
        "config = {\"user\":\"<USERNAME>\", \n",
        "          \"password\": \"<PASSWORD>\", \n",
        "          \"driver\":\"org.postgresql.Driver\"}\n"
      ],
      "metadata": {
        "id": "OEgWQ37jUVz5"
      },
      "execution_count": 25,
      "outputs": []
    },
    {
      "cell_type": "code",
      "source": [
        "#write dataframe to review_id table in RDS\n",
        "reviews_df.write.jdbc(url=jdbc_url, table=\"review_id\", mode=mode, properties=config)"
      ],
      "metadata": {
        "id": "i_y82c2VYbk-"
      },
      "execution_count": null,
      "outputs": []
    },
    {
      "cell_type": "code",
      "source": [
        "#write dataframe to product table in RDS\n",
        "product_df.write.jdbc(url=jdbc_url, table=\"product\", mode=mode, properties=config)"
      ],
      "metadata": {
        "id": "_Rc6prVRY43I"
      },
      "execution_count": null,
      "outputs": []
    },
    {
      "cell_type": "code",
      "source": [
        "#write dataframe to customers in RDS\n",
        "customers_df.write.jdbc(url=jdbc_url, table=\"customers\", mode=mode, properties=config)"
      ],
      "metadata": {
        "id": "iAqZWB9zZMPq"
      },
      "execution_count": null,
      "outputs": []
    },
    {
      "cell_type": "code",
      "source": [
        "#write dataframe to vine_table table in RDS\n",
        "vine_table_df.write.jdbc(url=jdbc_url, table=\"vine_table\", mode=mode, properties=config)"
      ],
      "metadata": {
        "id": "CX9cc25QZU5j"
      },
      "execution_count": null,
      "outputs": []
    }
  ]
}